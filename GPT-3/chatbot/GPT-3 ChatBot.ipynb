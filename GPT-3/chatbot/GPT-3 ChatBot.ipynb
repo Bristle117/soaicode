{
 "cells": [
  {
   "cell_type": "code",
   "execution_count": 1,
   "metadata": {},
   "outputs": [
    {
     "data": {
      "application/vnd.jupyter.widget-view+json": {
       "model_id": "e1370ee812d84a9e91067457c972b912",
       "version_major": 2,
       "version_minor": 0
      },
      "text/plain": [
       "Textarea(value='The following is a conversation with an AI.The AI is helpful and friendly.\\n\\nHuman:Hi\\nAI:I a…"
      ]
     },
     "metadata": {},
     "output_type": "display_data"
    },
    {
     "data": {
      "application/vnd.jupyter.widget-view+json": {
       "model_id": "761a45b67d784ccb8cd0855317515287",
       "version_major": 2,
       "version_minor": 0
      },
      "text/plain": [
       "Text(value='I am a chat bot based on GPT-3', description='AI says:', disabled=True, layout=Layout(height='40px…"
      ]
     },
     "metadata": {},
     "output_type": "display_data"
    },
    {
     "data": {
      "application/vnd.jupyter.widget-view+json": {
       "model_id": "978f57af774e48ada0f76501d376b4e0",
       "version_major": 2,
       "version_minor": 0
      },
      "text/plain": [
       "FloatSlider(value=0.7, continuous_update=False, description='Temperature:', max=1.0, readout_format='.1f', ste…"
      ]
     },
     "metadata": {},
     "output_type": "display_data"
    },
    {
     "data": {
      "application/vnd.jupyter.widget-view+json": {
       "model_id": "089736e53bf44454818f4be307fbeecb",
       "version_major": 2,
       "version_minor": 0
      },
      "text/plain": [
       "Checkbox(value=False, description='AI voice')"
      ]
     },
     "metadata": {},
     "output_type": "display_data"
    },
    {
     "data": {
      "application/vnd.jupyter.widget-view+json": {
       "model_id": "72b9dbf9e1f34a999b04d22f38952aa0",
       "version_major": 2,
       "version_minor": 0
      },
      "text/plain": [
       "Text(value='Hi', description='You say:', layout=Layout(height='40px', width='auto'))"
      ]
     },
     "metadata": {},
     "output_type": "display_data"
    },
    {
     "data": {
      "application/vnd.jupyter.widget-view+json": {
       "model_id": "bb5f943314144f5faf5fe47917f7e152",
       "version_major": 2,
       "version_minor": 0
      },
      "text/plain": [
       "Button(button_style='success', description='Send', icon='meh-blank', style=ButtonStyle(), tooltip='Send messag…"
      ]
     },
     "metadata": {},
     "output_type": "display_data"
    },
    {
     "data": {
      "application/vnd.jupyter.widget-view+json": {
       "model_id": "31ce90fd4f0645d88dcea58ade93cea0",
       "version_major": 2,
       "version_minor": 0
      },
      "text/plain": [
       "Button(button_style='danger', description='Reset', style=ButtonStyle(), tooltip='Restart the chat')"
      ]
     },
     "metadata": {},
     "output_type": "display_data"
    }
   ],
   "source": [
    "import botInterface"
   ]
  },
  {
   "cell_type": "code",
   "execution_count": 3,
   "metadata": {},
   "outputs": [],
   "source": [
    "import speech_recognition as sr\n",
    "r = sr.Recognizer()"
   ]
  },
  {
   "cell_type": "code",
   "execution_count": 7,
   "metadata": {},
   "outputs": [],
   "source": [
    "def speech():\n",
    "    with sr.Microphone() as source:\n",
    "        print(\"START SPEAKING!\")\n",
    "        audio = r.listen(source)\n",
    "        print(\"RECORDING COMPLETED\")\n",
    "\n",
    "    try:\n",
    "        return r.recognize_google(audio) #captured speech\n",
    "    except ee:\n",
    "        print(\"ERROR capturing voice\", ee)"
   ]
  },
  {
   "cell_type": "code",
   "execution_count": 9,
   "metadata": {},
   "outputs": [
    {
     "name": "stdout",
     "output_type": "stream",
     "text": [
      "START SPEAKING!\n",
      "RECORDING COMPLETED\n"
     ]
    }
   ],
   "source": []
  },
  {
   "cell_type": "code",
   "execution_count": 10,
   "metadata": {},
   "outputs": [
    {
     "name": "stdout",
     "output_type": "stream",
     "text": [
      "hello this is just McDonald's\n"
     ]
    }
   ],
   "source": []
  },
  {
   "cell_type": "code",
   "execution_count": null,
   "metadata": {},
   "outputs": [],
   "source": []
  }
 ],
 "metadata": {
  "kernelspec": {
   "display_name": "Python 3",
   "language": "python",
   "name": "python3"
  },
  "language_info": {
   "codemirror_mode": {
    "name": "ipython",
    "version": 3
   },
   "file_extension": ".py",
   "mimetype": "text/x-python",
   "name": "python",
   "nbconvert_exporter": "python",
   "pygments_lexer": "ipython3",
   "version": "3.7.7"
  }
 },
 "nbformat": 4,
 "nbformat_minor": 4
}
