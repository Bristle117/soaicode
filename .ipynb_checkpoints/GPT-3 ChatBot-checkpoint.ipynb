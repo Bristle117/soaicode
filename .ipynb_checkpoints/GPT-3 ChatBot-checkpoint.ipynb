{
 "cells": [
  {
   "cell_type": "code",
   "execution_count": 1,
   "metadata": {},
   "outputs": [
    {
     "data": {
      "application/vnd.jupyter.widget-view+json": {
       "model_id": "9f304383a63d4ebbb772fcd3bf23cfd3",
       "version_major": 2,
       "version_minor": 0
      },
      "text/plain": [
       "Textarea(value='The following is a conversation with an AI.The AI is helpful and friendly.\\n\\nHuman:Hi\\nAI:I a…"
      ]
     },
     "metadata": {},
     "output_type": "display_data"
    },
    {
     "data": {
      "application/vnd.jupyter.widget-view+json": {
       "model_id": "47393b09fcea4b438cfce20672fe8f61",
       "version_major": 2,
       "version_minor": 0
      },
      "text/plain": [
       "Text(value='I am a chat bot based on GPT-3', description='AI says:', disabled=True, layout=Layout(height='40px…"
      ]
     },
     "metadata": {},
     "output_type": "display_data"
    },
    {
     "data": {
      "application/vnd.jupyter.widget-view+json": {
       "model_id": "57674c0afd6a46c9bbf0770d4df96403",
       "version_major": 2,
       "version_minor": 0
      },
      "text/plain": [
       "FloatSlider(value=0.7, continuous_update=False, description='Temperature:', max=1.0, readout_format='.1f', ste…"
      ]
     },
     "metadata": {},
     "output_type": "display_data"
    },
    {
     "data": {
      "application/vnd.jupyter.widget-view+json": {
       "model_id": "e8f11d503df74563b0bba81551e3f96c",
       "version_major": 2,
       "version_minor": 0
      },
      "text/plain": [
       "Text(value='Hi', description='You say:', layout=Layout(height='40px', width='auto'))"
      ]
     },
     "metadata": {},
     "output_type": "display_data"
    },
    {
     "data": {
      "application/vnd.jupyter.widget-view+json": {
       "model_id": "1975b2555838422eb6cefde0fb10181e",
       "version_major": 2,
       "version_minor": 0
      },
      "text/plain": [
       "Button(button_style='success', description='Send', icon='meh-blank', style=ButtonStyle(), tooltip='Send messag…"
      ]
     },
     "metadata": {},
     "output_type": "display_data"
    },
    {
     "data": {
      "application/vnd.jupyter.widget-view+json": {
       "model_id": "35abcdb135144150aee676ce5a73e631",
       "version_major": 2,
       "version_minor": 0
      },
      "text/plain": [
       "Button(button_style='danger', description='Reset', style=ButtonStyle(), tooltip='Restart the chat')"
      ]
     },
     "metadata": {},
     "output_type": "display_data"
    }
   ],
   "source": [
    "import botInterface"
   ]
  }
 ],
 "metadata": {
  "kernelspec": {
   "display_name": "Python 3",
   "language": "python",
   "name": "python3"
  },
  "language_info": {
   "codemirror_mode": {
    "name": "ipython",
    "version": 3
   },
   "file_extension": ".py",
   "mimetype": "text/x-python",
   "name": "python",
   "nbconvert_exporter": "python",
   "pygments_lexer": "ipython3",
   "version": "3.7.6"
  }
 },
 "nbformat": 4,
 "nbformat_minor": 4
}
