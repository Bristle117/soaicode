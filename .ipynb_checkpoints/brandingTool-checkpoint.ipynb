{
 "cells": [
  {
   "cell_type": "code",
   "execution_count": 223,
   "metadata": {},
   "outputs": [],
   "source": [
    "import config\n",
    "import openai\n",
    "import ipywidgets as widgets"
   ]
  },
  {
   "cell_type": "code",
   "execution_count": 224,
   "metadata": {},
   "outputs": [],
   "source": [
    "openai.api_key = config.key"
   ]
  },
  {
   "cell_type": "code",
   "execution_count": 225,
   "metadata": {},
   "outputs": [
    {
     "data": {
      "application/vnd.jupyter.widget-view+json": {
       "model_id": "6e7d62b73b0a49559efc39725a0ec561",
       "version_major": 2,
       "version_minor": 0
      },
      "text/plain": [
       "Text(value='Acme Plumbing Co.', description='Name')"
      ]
     },
     "metadata": {},
     "output_type": "display_data"
    },
    {
     "data": {
      "application/vnd.jupyter.widget-view+json": {
       "model_id": "eadab178a61940e99646de4a4058d5ce",
       "version_major": 2,
       "version_minor": 0
      },
      "text/plain": [
       "Text(value='Berlin, Germany', description='Location')"
      ]
     },
     "metadata": {},
     "output_type": "display_data"
    },
    {
     "data": {
      "application/vnd.jupyter.widget-view+json": {
       "model_id": "9421a6f838b94149952b3e1443f2b3bc",
       "version_major": 2,
       "version_minor": 0
      },
      "text/plain": [
       "Text(value='Industrial machining', description='Industries')"
      ]
     },
     "metadata": {},
     "output_type": "display_data"
    }
   ],
   "source": [
    "company_name = widgets.Text(value='Acme Plumbing Co.', disabled=False,description='Name')\n",
    "headquarters_location = widgets.Text(value='Berlin, Germany', disabled=False,description='Location')\n",
    "industries = widgets.Text(value='Industrial machining', disabled=False,description='Industries')\n",
    "display(company_name,headquarters_location,industries)"
   ]
  },
  {
   "cell_type": "code",
   "execution_count": 242,
   "metadata": {},
   "outputs": [],
   "source": [
    "myEntry = f\"\"\"full name of company:{company_name.value}\\nheadquarters location:{headquarters_location.value}\\nindustries:{industries.value}\"\"\""
   ]
  },
  {
   "cell_type": "code",
   "execution_count": 243,
   "metadata": {},
   "outputs": [],
   "source": [
    "#Custom text input\n",
    "myPrompt = f\"\"\"Generates everything that a new business needs to get started connecting with their audience. \n",
    "\n",
    "full name of company:Apple Computer Inc.\n",
    "headquarters location:USA\n",
    "industries: Computer hardware,Computer software,Consumer electronics,Cloud computing,Digital distribution,Fabless silicon design,Semiconductors,Media,Financial technology,Artificial intelligence\n",
    "geographical focus:global\n",
    "philosophy:make the best products\n",
    "logo concept: an apple with a bite taken out of it. Black. No text.\n",
    "company colors: black and white\n",
    "slogan:Think Different\n",
    "3 product ideas:portable music player, online music store, web application store\n",
    "1 free tweet: '''Apple Computer today unveiled its much-anticipated Macintosh computer, a sophisticated, affordably priced personal computer designed for business people, professionals and students in a broad range of fields.'''\n",
    "3 geographic targets:United States, Canada, United Kingdom\n",
    "\n",
    "{myEntry}\n",
    "\"\"\""
   ]
  },
  {
   "cell_type": "code",
   "execution_count": 244,
   "metadata": {},
   "outputs": [],
   "source": [
    "#parameters\n",
    "myTokens = 350\n",
    "myEngine = \"davinci\"\n",
    "myTemp = 0.85\n",
    "myTop_p = 1\n",
    "myN=1\n",
    "myStream = None\n",
    "myLogProbs = None\n",
    "myStop = \"\\n\\n\""
   ]
  },
  {
   "cell_type": "code",
   "execution_count": 245,
   "metadata": {},
   "outputs": [
    {
     "name": "stdout",
     "output_type": "stream",
     "text": [
      "full name of company:OHara Burgers Co.\n",
      "headquarters location:Madison, WI USA\n",
      "industries:Food service\n",
      "geographical focus:Midwest USA, Southern California\n",
      "philosophy:Delicious Burgers At A Reasonable Price\n",
      "logo concept: A custom-designed typeface spelling out the company name. Black, red, and white.\n",
      "headquarters address:4425 University Ave Madison, WI 53705 USA\n",
      "slogan:The Best Burgers On The Planet!\n",
      "3 product ideas:homestyle burgers, premium burger line, chicken sandwich\n",
      "1 free tweet: '''OHara Burgers today announced its long-awaited expansion to the Chicago, IL market, starting with a location in the suburban town of Oakbrook. The company plans to open 4 locations by the end of the year.'''\n",
      "3 geographic targets: Illinois, Michigan, Ohio\n"
     ]
    }
   ],
   "source": [
    "response = openai.Completion.create(\n",
    "  engine=myEngine,\n",
    "  prompt=myPrompt,\n",
    "  max_tokens=myTokens,\n",
    "  temperature=myTemp,\n",
    "  top_p=myTop_p,\n",
    "  n=myN,\n",
    "  stream = myStream,\n",
    "  logprobs=myLogProbs,\n",
    "  stop = myStop\n",
    ")\n",
    "\n",
    "print(f\"{myEntry}\\n{response.choices[0].text}\")"
   ]
  },
  {
   "cell_type": "code",
   "execution_count": null,
   "metadata": {},
   "outputs": [],
   "source": []
  },
  {
   "cell_type": "code",
   "execution_count": null,
   "metadata": {},
   "outputs": [],
   "source": []
  },
  {
   "cell_type": "code",
   "execution_count": null,
   "metadata": {},
   "outputs": [],
   "source": []
  },
  {
   "cell_type": "code",
   "execution_count": null,
   "metadata": {},
   "outputs": [],
   "source": []
  }
 ],
 "metadata": {
  "kernelspec": {
   "display_name": "Python 3",
   "language": "python",
   "name": "python3"
  },
  "language_info": {
   "codemirror_mode": {
    "name": "ipython",
    "version": 3
   },
   "file_extension": ".py",
   "mimetype": "text/x-python",
   "name": "python",
   "nbconvert_exporter": "python",
   "pygments_lexer": "ipython3",
   "version": "3.7.6"
  }
 },
 "nbformat": 4,
 "nbformat_minor": 4
}
