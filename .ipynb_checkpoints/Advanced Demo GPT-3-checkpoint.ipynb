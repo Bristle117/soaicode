{
 "cells": [
  {
   "cell_type": "code",
   "execution_count": 111,
   "metadata": {},
   "outputs": [],
   "source": [
    "import config\n",
    "import openai\n",
    "import ipywidgets as widgets\n",
    "from IPython.display import display"
   ]
  },
  {
   "cell_type": "code",
   "execution_count": 112,
   "metadata": {},
   "outputs": [],
   "source": [
    "openai.api_key = config.key"
   ]
  },
  {
   "cell_type": "code",
   "execution_count": null,
   "metadata": {},
   "outputs": [],
   "source": []
  },
  {
   "cell_type": "code",
   "execution_count": null,
   "metadata": {},
   "outputs": [],
   "source": []
  },
  {
   "cell_type": "code",
   "execution_count": null,
   "metadata": {},
   "outputs": [],
   "source": []
  },
  {
   "cell_type": "code",
   "execution_count": null,
   "metadata": {},
   "outputs": [],
   "source": []
  },
  {
   "cell_type": "code",
   "execution_count": 116,
   "metadata": {},
   "outputs": [],
   "source": [
    "submit = widgets.Button(\n",
    "    description='Click me',\n",
    "    disabled=False,\n",
    "    button_style='', # 'success', 'info', 'warning', 'danger' or ''\n",
    "    tooltip='Update',\n",
    "    icon='check' # (FontAwesome names without the `fa-` prefix)\n",
    ")"
   ]
  },
  {
   "cell_type": "code",
   "execution_count": 117,
   "metadata": {},
   "outputs": [
    {
     "data": {
      "application/vnd.jupyter.widget-view+json": {
       "model_id": "ff73a1742e0a496783f642f7546e55e8",
       "version_major": 2,
       "version_minor": 0
      },
      "text/plain": [
       "Textarea(value='Hello World\\n\\n\\n', description='History', disabled=True, placeholder='Type something')"
      ]
     },
     "metadata": {},
     "output_type": "display_data"
    },
    {
     "data": {
      "application/vnd.jupyter.widget-view+json": {
       "model_id": "d7bcf01ba67d473f876c8a2944263be2",
       "version_major": 2,
       "version_minor": 0
      },
      "text/plain": [
       "Text(value='I am a chat bot based on GPT-3', description='AI says:', disabled=True)"
      ]
     },
     "metadata": {},
     "output_type": "display_data"
    },
    {
     "data": {
      "application/vnd.jupyter.widget-view+json": {
       "model_id": "2f56b55fb2b0474b8fa6f543ce11fcff",
       "version_major": 2,
       "version_minor": 0
      },
      "text/plain": [
       "Text(value='Hi', description='You say:')"
      ]
     },
     "metadata": {},
     "output_type": "display_data"
    },
    {
     "data": {
      "application/vnd.jupyter.widget-view+json": {
       "model_id": "9b220db8d01e457eacc3aa9cc020f151",
       "version_major": 2,
       "version_minor": 0
      },
      "text/plain": [
       "Output()"
      ]
     },
     "metadata": {},
     "output_type": "display_data"
    },
    {
     "data": {
      "application/vnd.jupyter.widget-view+json": {
       "model_id": "28b6b9b2c71546718d273a94380827fe",
       "version_major": 2,
       "version_minor": 0
      },
      "text/plain": [
       "Button(description='Click me', icon='check', style=ButtonStyle(), tooltip='Click me')"
      ]
     },
     "metadata": {},
     "output_type": "display_data"
    }
   ],
   "source": [
    "def queryModel(myEntry):\n",
    "    #parameters\n",
    "    myTokens = 100\n",
    "    myEngine = \"davinci\"\n",
    "    myTemp = 0.90\n",
    "    myTop_p = 1\n",
    "    myN=1\n",
    "    myStream = None\n",
    "    myLogProbs = None\n",
    "    myStop = \"\\nHuman:\"\n",
    "    \n",
    "    response = openai.Completion.create(\n",
    "    engine=myEngine,\n",
    "    prompt=myEntry,\n",
    "    max_tokens=myTokens,\n",
    "    temperature=myTemp,\n",
    "    top_p=myTop_p,\n",
    "    n=myN,\n",
    "    stream = myStream,\n",
    "    logprobs=myLogProbs,\n",
    "    stop = myStop)\n",
    "    return f\"{response.choices[0].text}\"\n",
    "\n",
    "ai_start = \"I am a chat bot based on GPT-3\"\n",
    "human_start = \"Hi\"\n",
    "initial_prompt = f\"The following is a conversation with an AI and a Human. The AI is very helpful and friendly.\\n\\nAI:{ai_start}\\nHuman:{human_start}\\nAI:\"\n",
    "\n",
    "ai = widgets.Text(value=ai_start, disabled=True,description='AI says:')\n",
    "human = widgets.Text(value=human_start, disabled=False,description='You say:')\n",
    "output = widgets.Output()\n",
    "\n",
    "history = widgets.Textarea(\n",
    "    value='Hello World\\n\\n\\n',\n",
    "    placeholder='Type something',\n",
    "    description='History',\n",
    "    disabled=True\n",
    ")\n",
    "\n",
    "display(history, ai,human,output,submit)\n",
    "\n",
    "def converse():\n",
    "    full_conversation = history.value\n",
    "    ai_says = ai.value\n",
    "    human_says = human.value\n",
    "    #start conversation\n",
    "    ai_response = queryModel(f\"{full_conversation}\\nAI:{ai_says}\\nHuman:{human_says}\")\n",
    "    full_conversation+=ai_response\n",
    "    output.value = full_conversation\n",
    "    ai.value = ai_response\n",
    "    #while conversation is not over\n",
    "    #update the button values\n",
    "    #get new API response\n",
    "    #increment steps"
   ]
  },
  {
   "cell_type": "code",
   "execution_count": 115,
   "metadata": {},
   "outputs": [],
   "source": [
    "converse()"
   ]
  },
  {
   "cell_type": "code",
   "execution_count": null,
   "metadata": {},
   "outputs": [],
   "source": []
  }
 ],
 "metadata": {
  "kernelspec": {
   "display_name": "Python 3",
   "language": "python",
   "name": "python3"
  },
  "language_info": {
   "codemirror_mode": {
    "name": "ipython",
    "version": 3
   },
   "file_extension": ".py",
   "mimetype": "text/x-python",
   "name": "python",
   "nbconvert_exporter": "python",
   "pygments_lexer": "ipython3",
   "version": "3.7.6"
  }
 },
 "nbformat": 4,
 "nbformat_minor": 4
}
