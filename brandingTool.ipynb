{
 "cells": [
  {
   "cell_type": "code",
   "execution_count": 12,
   "metadata": {},
   "outputs": [],
   "source": [
    "import config\n",
    "import openai\n",
    "import ipywidgets as widgets"
   ]
  },
  {
   "cell_type": "code",
   "execution_count": 224,
   "metadata": {},
   "outputs": [],
   "source": [
    "openai.api_key = config.key"
   ]
  },
  {
   "cell_type": "code",
   "execution_count": 1,
   "metadata": {},
   "outputs": [
    {
     "ename": "NameError",
     "evalue": "name 'widgets' is not defined",
     "output_type": "error",
     "traceback": [
      "\u001b[1;31m---------------------------------------------------------------------------\u001b[0m",
      "\u001b[1;31mNameError\u001b[0m                                 Traceback (most recent call last)",
      "\u001b[1;32m<ipython-input-1-7428d670a059>\u001b[0m in \u001b[0;36m<module>\u001b[1;34m\u001b[0m\n\u001b[1;32m----> 1\u001b[1;33m \u001b[0mcompany_name\u001b[0m \u001b[1;33m=\u001b[0m \u001b[0mwidgets\u001b[0m\u001b[1;33m.\u001b[0m\u001b[0mText\u001b[0m\u001b[1;33m(\u001b[0m\u001b[0mvalue\u001b[0m\u001b[1;33m=\u001b[0m\u001b[1;34m'Acme Plumbing Co.'\u001b[0m\u001b[1;33m,\u001b[0m \u001b[0mdisabled\u001b[0m\u001b[1;33m=\u001b[0m\u001b[1;32mFalse\u001b[0m\u001b[1;33m,\u001b[0m\u001b[0mdescription\u001b[0m\u001b[1;33m=\u001b[0m\u001b[1;34m'Name'\u001b[0m\u001b[1;33m)\u001b[0m\u001b[1;33m\u001b[0m\u001b[1;33m\u001b[0m\u001b[0m\n\u001b[0m\u001b[0;32m      2\u001b[0m \u001b[0mheadquarters_location\u001b[0m \u001b[1;33m=\u001b[0m \u001b[0mwidgets\u001b[0m\u001b[1;33m.\u001b[0m\u001b[0mText\u001b[0m\u001b[1;33m(\u001b[0m\u001b[0mvalue\u001b[0m\u001b[1;33m=\u001b[0m\u001b[1;34m'Berlin, Germany'\u001b[0m\u001b[1;33m,\u001b[0m \u001b[0mdisabled\u001b[0m\u001b[1;33m=\u001b[0m\u001b[1;32mFalse\u001b[0m\u001b[1;33m,\u001b[0m\u001b[0mdescription\u001b[0m\u001b[1;33m=\u001b[0m\u001b[1;34m'Location'\u001b[0m\u001b[1;33m)\u001b[0m\u001b[1;33m\u001b[0m\u001b[1;33m\u001b[0m\u001b[0m\n\u001b[0;32m      3\u001b[0m \u001b[0mindustries\u001b[0m \u001b[1;33m=\u001b[0m \u001b[0mwidgets\u001b[0m\u001b[1;33m.\u001b[0m\u001b[0mText\u001b[0m\u001b[1;33m(\u001b[0m\u001b[0mvalue\u001b[0m\u001b[1;33m=\u001b[0m\u001b[1;34m'Industrial machining'\u001b[0m\u001b[1;33m,\u001b[0m \u001b[0mdisabled\u001b[0m\u001b[1;33m=\u001b[0m\u001b[1;32mFalse\u001b[0m\u001b[1;33m,\u001b[0m\u001b[0mdescription\u001b[0m\u001b[1;33m=\u001b[0m\u001b[1;34m'Industries'\u001b[0m\u001b[1;33m)\u001b[0m\u001b[1;33m\u001b[0m\u001b[1;33m\u001b[0m\u001b[0m\n\u001b[0;32m      4\u001b[0m \u001b[0mdisplay\u001b[0m\u001b[1;33m(\u001b[0m\u001b[0mcompany_name\u001b[0m\u001b[1;33m,\u001b[0m\u001b[0mheadquarters_location\u001b[0m\u001b[1;33m,\u001b[0m\u001b[0mindustries\u001b[0m\u001b[1;33m)\u001b[0m\u001b[1;33m\u001b[0m\u001b[1;33m\u001b[0m\u001b[0m\n",
      "\u001b[1;31mNameError\u001b[0m: name 'widgets' is not defined"
     ]
    }
   ],
   "source": [
    "company_name = widgets.Text(value='Acme Plumbing Co.', disabled=False,description='Name')\n",
    "headquarters_location = widgets.Text(value='Berlin, Germany', disabled=False,description='Location')\n",
    "industries = widgets.Text(value='Industrial machining', disabled=False,description='Industries')\n",
    "display(company_name,headquarters_location,industries)"
   ]
  },
  {
   "cell_type": "code",
   "execution_count": 242,
   "metadata": {},
   "outputs": [],
   "source": [
    "myEntry = f\"\"\"full name of company:{company_name.value}\\nheadquarters location:{headquarters_location.value}\\nindustries:{industries.value}\"\"\""
   ]
  },
  {
   "cell_type": "code",
   "execution_count": 243,
   "metadata": {},
   "outputs": [],
   "source": [
    "#Custom text input\n",
    "myPrompt = f\"\"\"Generates everything that a new business needs to get started connecting with their audience. \n",
    "\n",
    "full name of company:Apple Computer Inc.\n",
    "headquarters location:USA\n",
    "industries: Computer hardware,Computer software,Consumer electronics,Cloud computing,Digital distribution,Fabless silicon design,Semiconductors,Media,Financial technology,Artificial intelligence\n",
    "geographical focus:global\n",
    "philosophy:make the best products\n",
    "logo concept: an apple with a bite taken out of it. Black. No text.\n",
    "company colors: black and white\n",
    "slogan:Think Different\n",
    "3 product ideas:portable music player, online music store, web application store\n",
    "1 free tweet: '''Apple Computer today unveiled its much-anticipated Macintosh computer, a sophisticated, affordably priced personal computer designed for business people, professionals and students in a broad range of fields.'''\n",
    "3 geographic targets:United States, Canada, United Kingdom\n",
    "\n",
    "{myEntry}\n",
    "\"\"\""
   ]
  },
  {
   "cell_type": "code",
   "execution_count": 244,
   "metadata": {},
   "outputs": [],
   "source": [
    "#parameters\n",
    "myTokens = 350\n",
    "myEngine = \"davinci\"\n",
    "myTemp = 0.85\n",
    "myTop_p = 1\n",
    "myN=1\n",
    "myStream = None\n",
    "myLogProbs = None\n",
    "myStop = \"\\n\\n\""
   ]
  },
  {
   "cell_type": "code",
   "execution_count": 245,
   "metadata": {},
   "outputs": [
    {
     "name": "stdout",
     "output_type": "stream",
     "text": [
      "full name of company:OHara Burgers Co.\n",
      "headquarters location:Madison, WI USA\n",
      "industries:Food service\n",
      "geographical focus:Midwest USA, Southern California\n",
      "philosophy:Delicious Burgers At A Reasonable Price\n",
      "logo concept: A custom-designed typeface spelling out the company name. Black, red, and white.\n",
      "headquarters address:4425 University Ave Madison, WI 53705 USA\n",
      "slogan:The Best Burgers On The Planet!\n",
      "3 product ideas:homestyle burgers, premium burger line, chicken sandwich\n",
      "1 free tweet: '''OHara Burgers today announced its long-awaited expansion to the Chicago, IL market, starting with a location in the suburban town of Oakbrook. The company plans to open 4 locations by the end of the year.'''\n",
      "3 geographic targets: Illinois, Michigan, Ohio\n"
     ]
    }
   ],
   "source": [
    "response = openai.Completion.create(\n",
    "  engine=myEngine,\n",
    "  prompt=myPrompt,\n",
    "  max_tokens=myTokens,\n",
    "  temperature=myTemp,\n",
    "  top_p=myTop_p,\n",
    "  n=myN,\n",
    "  stream = myStream,\n",
    "  logprobs=myLogProbs,\n",
    "  stop = myStop\n",
    ")\n",
    "\n",
    "print(f\"{myEntry}\\n{response.choices[0].text}\")"
   ]
  },
  {
   "cell_type": "code",
   "execution_count": null,
   "metadata": {},
   "outputs": [],
   "source": []
  },
  {
   "cell_type": "code",
   "execution_count": null,
   "metadata": {},
   "outputs": [],
   "source": []
  },
  {
   "cell_type": "code",
   "execution_count": null,
   "metadata": {},
   "outputs": [],
   "source": []
  },
  {
   "cell_type": "code",
   "execution_count": null,
   "metadata": {},
   "outputs": [],
   "source": []
  }
 ],
 "metadata": {
  "kernelspec": {
   "display_name": "Python 3",
   "language": "python",
   "name": "python3"
  },
  "language_info": {
   "codemirror_mode": {
    "name": "ipython",
    "version": 3
   },
   "file_extension": ".py",
   "mimetype": "text/x-python",
   "name": "python",
   "nbconvert_exporter": "python",
   "pygments_lexer": "ipython3",
   "version": "3.7.7"
  }
 },
 "nbformat": 4,
 "nbformat_minor": 4
}
