{
 "cells": [
  {
   "cell_type": "code",
   "execution_count": 1,
   "metadata": {
    "scrolled": false
   },
   "outputs": [
    {
     "data": {
      "application/vnd.jupyter.widget-view+json": {
       "model_id": "a7f38945efda4bba8db461954283e15d",
       "version_major": 2,
       "version_minor": 0
      },
      "text/plain": [
       "Textarea(value=\"The following is a conversation with AI. The AI is helpful, friendly, and uses professional la…"
      ]
     },
     "metadata": {},
     "output_type": "display_data"
    },
    {
     "data": {
      "application/vnd.jupyter.widget-view+json": {
       "model_id": "802fabb052a0432d878da6950297a999",
       "version_major": 2,
       "version_minor": 0
      },
      "text/plain": [
       "Dropdown(description='Personality:', options=(('AI', 1), ('Police Detective', 2), ('Defense Attorney', 3), ('S…"
      ]
     },
     "metadata": {},
     "output_type": "display_data"
    },
    {
     "data": {
      "application/vnd.jupyter.widget-view+json": {
       "model_id": "4abc0efbc5ba4779af6cfa24a0a0abc4",
       "version_major": 2,
       "version_minor": 0
      },
      "text/plain": [
       "Text(value='How may I help you?', description='AI says:', disabled=True, layout=Layout(height='40px', width='a…"
      ]
     },
     "metadata": {},
     "output_type": "display_data"
    },
    {
     "data": {
      "application/vnd.jupyter.widget-view+json": {
       "model_id": "2163f56e706e411a96562a1bd9a1c13a",
       "version_major": 2,
       "version_minor": 0
      },
      "text/plain": [
       "FloatSlider(value=0.7, continuous_update=False, description='Temperature:', max=1.0, readout_format='.1f', ste…"
      ]
     },
     "metadata": {},
     "output_type": "display_data"
    },
    {
     "data": {
      "application/vnd.jupyter.widget-view+json": {
       "model_id": "e2812f55c39e4045aa7518541a583d8c",
       "version_major": 2,
       "version_minor": 0
      },
      "text/plain": [
       "Checkbox(value=False, description='AI voice')"
      ]
     },
     "metadata": {},
     "output_type": "display_data"
    },
    {
     "data": {
      "application/vnd.jupyter.widget-view+json": {
       "model_id": "13bfd16780044c82adf9a38c9e7d76ba",
       "version_major": 2,
       "version_minor": 0
      },
      "text/plain": [
       "Text(value='Hi', description='You say:', layout=Layout(height='40px', width='auto'))"
      ]
     },
     "metadata": {},
     "output_type": "display_data"
    },
    {
     "data": {
      "application/vnd.jupyter.widget-view+json": {
       "model_id": "84b628dde1a145d9a74cc5161e81f9e4",
       "version_major": 2,
       "version_minor": 0
      },
      "text/plain": [
       "Button(button_style='info', description='Talk', style=ButtonStyle(), tooltip='Speak to the AI using your voice…"
      ]
     },
     "metadata": {},
     "output_type": "display_data"
    },
    {
     "data": {
      "application/vnd.jupyter.widget-view+json": {
       "model_id": "b9cf6fbf887547c194e7f6fd23b6ca21",
       "version_major": 2,
       "version_minor": 0
      },
      "text/plain": [
       "Button(button_style='success', description='Send', icon='meh-blank', style=ButtonStyle(), tooltip='Send messag…"
      ]
     },
     "metadata": {},
     "output_type": "display_data"
    },
    {
     "data": {
      "application/vnd.jupyter.widget-view+json": {
       "model_id": "c94cc4619cf4485a8c1fc5f8e606a7cc",
       "version_major": 2,
       "version_minor": 0
      },
      "text/plain": [
       "Button(button_style='danger', description='Reset', style=ButtonStyle(), tooltip='Restart the chat')"
      ]
     },
     "metadata": {},
     "output_type": "display_data"
    }
   ],
   "source": [
    "import botInterfaceTechDesk"
   ]
  },
  {
   "cell_type": "code",
   "execution_count": 8,
   "metadata": {},
   "outputs": [
    {
     "name": "stdout",
     "output_type": "stream",
     "text": [
      "200\n",
      "1.0\n",
      "HKEY_LOCAL_MACHINE\\SOFTWARE\\Microsoft\\Speech\\Voices\\Tokens\\TTS_MS_EN-US_ZIRA_11.0\n"
     ]
    }
   ],
   "source": [
    "import pyttsx3\n",
    "engine = pyttsx3.init()\n",
    "rate = engine.getProperty('rate')\n",
    "volume = engine.getProperty('volume')\n",
    "voice = engine.getProperty('voice')\n",
    " \n",
    "print(rate)\n",
    "print(volume)\n",
    "print(voice)"
   ]
  },
  {
   "cell_type": "code",
   "execution_count": 9,
   "metadata": {},
   "outputs": [
    {
     "name": "stdout",
     "output_type": "stream",
     "text": [
      " Volume in drive C has no label.\n",
      " Volume Serial Number is 909F-D56E\n",
      "\n",
      " Directory of C:\\Users\\Marcin\\Desktop\\development\\GPT-3\n",
      "\n",
      "2020-08-13  23:58    <DIR>          .\n",
      "2020-08-13  23:58    <DIR>          ..\n",
      "2020-08-11  21:15             2˙199 .gitignore\n",
      "2020-08-11  17:10    <DIR>          .ipynb_checkpoints\n",
      "2020-08-08  16:24            30˙618 Advanced Demo GPT-3.ipynb\n",
      "2020-08-09  09:09             3˙292 botInterface.py\n",
      "2020-08-13  23:52             5˙526 botInterfaceTechDesk.py\n",
      "2020-08-11  17:10             7˙473 brandingTool.ipynb\n",
      "2020-08-11  16:54                51 config.py\n",
      "2020-08-08  16:37             1˙141 Espeak.ipynb\n",
      "2020-08-13  22:14             4˙660 GPT-3 ChatBot.ipynb\n",
      "2020-08-07  19:12             6˙094 GPT-3 Custom Playground.ipynb\n",
      "2020-08-13  23:58             4˙949 ITHelpDesk.ipynb\n",
      "2020-08-13  22:12               208 sources.md\n",
      "2020-08-08  12:32                72 Untitled.ipynb\n",
      "2020-08-13  22:25    <DIR>          __pycache__\n",
      "              12 File(s)         66˙283 bytes\n",
      "               4 Dir(s)  407˙679˙528˙960 bytes free\n"
     ]
    }
   ],
   "source": [
    "!dir"
   ]
  },
  {
   "cell_type": "code",
   "execution_count": null,
   "metadata": {},
   "outputs": [],
   "source": []
  }
 ],
 "metadata": {
  "kernelspec": {
   "display_name": "Python 3",
   "language": "python",
   "name": "python3"
  },
  "language_info": {
   "codemirror_mode": {
    "name": "ipython",
    "version": 3
   },
   "file_extension": ".py",
   "mimetype": "text/x-python",
   "name": "python",
   "nbconvert_exporter": "python",
   "pygments_lexer": "ipython3",
   "version": "3.7.7"
  }
 },
 "nbformat": 4,
 "nbformat_minor": 4
}
